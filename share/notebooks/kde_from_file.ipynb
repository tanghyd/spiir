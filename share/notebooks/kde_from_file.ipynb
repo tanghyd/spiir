{
 "cells": [
  {
   "cell_type": "code",
   "execution_count": 3,
   "metadata": {},
   "outputs": [],
   "source": [
    "%load_ext autoreload\n",
    "%autoreload 2"
   ]
  },
  {
   "cell_type": "code",
   "execution_count": 51,
   "metadata": {},
   "outputs": [],
   "source": [
    "import os\n",
    "\n",
    "import matplotlib.pyplot as plt\n",
    "import pandas as pd\n",
    "from pycbc.distributions import Arbitrary, FromFile\n",
    "\n",
    "from spiir.distribution import JointDistribution"
   ]
  },
  {
   "cell_type": "code",
   "execution_count": 5,
   "metadata": {},
   "outputs": [],
   "source": [
    "config_path = \"../config/priors.yaml\"\n",
    "priors = JointDistribution.from_yaml(config_path)"
   ]
  },
  {
   "cell_type": "code",
   "execution_count": 8,
   "metadata": {},
   "outputs": [],
   "source": [
    "mass_priors = JointDistribution(\n",
    "    distributions=priors.distributions[:2],\n",
    "    constraints=priors.constraints\n",
    ")"
   ]
  },
  {
   "cell_type": "code",
   "execution_count": 9,
   "metadata": {},
   "outputs": [
    {
     "data": {
      "text/html": [
       "<div>\n",
       "<style scoped>\n",
       "    .dataframe tbody tr th:only-of-type {\n",
       "        vertical-align: middle;\n",
       "    }\n",
       "\n",
       "    .dataframe tbody tr th {\n",
       "        vertical-align: top;\n",
       "    }\n",
       "\n",
       "    .dataframe thead th {\n",
       "        text-align: right;\n",
       "    }\n",
       "</style>\n",
       "<table border=\"1\" class=\"dataframe\">\n",
       "  <thead>\n",
       "    <tr style=\"text-align: right;\">\n",
       "      <th></th>\n",
       "      <th>mass_1</th>\n",
       "      <th>mass_2</th>\n",
       "    </tr>\n",
       "  </thead>\n",
       "  <tbody>\n",
       "    <tr>\n",
       "      <th>0</th>\n",
       "      <td>14.977602</td>\n",
       "      <td>4.159199</td>\n",
       "    </tr>\n",
       "    <tr>\n",
       "      <th>1</th>\n",
       "      <td>14.893783</td>\n",
       "      <td>4.131259</td>\n",
       "    </tr>\n",
       "    <tr>\n",
       "      <th>2</th>\n",
       "      <td>13.533392</td>\n",
       "      <td>3.677797</td>\n",
       "    </tr>\n",
       "    <tr>\n",
       "      <th>3</th>\n",
       "      <td>13.024283</td>\n",
       "      <td>3.508094</td>\n",
       "    </tr>\n",
       "    <tr>\n",
       "      <th>4</th>\n",
       "      <td>13.178263</td>\n",
       "      <td>3.559421</td>\n",
       "    </tr>\n",
       "    <tr>\n",
       "      <th>...</th>\n",
       "      <td>...</td>\n",
       "      <td>...</td>\n",
       "    </tr>\n",
       "    <tr>\n",
       "      <th>9995</th>\n",
       "      <td>13.202239</td>\n",
       "      <td>3.567413</td>\n",
       "    </tr>\n",
       "    <tr>\n",
       "      <th>9996</th>\n",
       "      <td>14.539474</td>\n",
       "      <td>4.013157</td>\n",
       "    </tr>\n",
       "    <tr>\n",
       "      <th>9997</th>\n",
       "      <td>13.874101</td>\n",
       "      <td>3.791366</td>\n",
       "    </tr>\n",
       "    <tr>\n",
       "      <th>9998</th>\n",
       "      <td>13.964354</td>\n",
       "      <td>3.821451</td>\n",
       "    </tr>\n",
       "    <tr>\n",
       "      <th>9999</th>\n",
       "      <td>14.938130</td>\n",
       "      <td>4.146041</td>\n",
       "    </tr>\n",
       "  </tbody>\n",
       "</table>\n",
       "<p>10000 rows × 2 columns</p>\n",
       "</div>"
      ],
      "text/plain": [
       "         mass_1    mass_2\n",
       "0     14.977602  4.159199\n",
       "1     14.893783  4.131259\n",
       "2     13.533392  3.677797\n",
       "3     13.024283  3.508094\n",
       "4     13.178263  3.559421\n",
       "...         ...       ...\n",
       "9995  13.202239  3.567413\n",
       "9996  14.539474  4.013157\n",
       "9997  13.874101  3.791366\n",
       "9998  13.964354  3.821451\n",
       "9999  14.938130  4.146041\n",
       "\n",
       "[10000 rows x 2 columns]"
      ]
     },
     "execution_count": 9,
     "metadata": {},
     "output_type": "execute_result"
    }
   ],
   "source": [
    "samples = mass_priors.draw(10000)\n",
    "samples"
   ]
  },
  {
   "cell_type": "code",
   "execution_count": 63,
   "metadata": {},
   "outputs": [],
   "source": [
    "# os.remove(\"masses.hdf\")\n",
    "\n",
    "import h5py\n",
    "\n",
    "with h5py.File(\"masses.hdf\", mode=\"a\") as f:\n",
    "    for col in samples.columns:\n",
    "         f[col] = samples[col].values\n",
    "\n",
    "# for col in samples.columns:\n",
    "#     samples[col].values.to_hdf(\"masses.hdf\", key=col)"
   ]
  },
  {
   "cell_type": "code",
   "execution_count": 64,
   "metadata": {},
   "outputs": [],
   "source": [
    "distribution = FromFile(\"masses.hdf\")"
   ]
  },
  {
   "cell_type": "code",
   "execution_count": 65,
   "metadata": {},
   "outputs": [
    {
     "data": {
      "text/plain": [
       "array([(12.8508067 , 3.45024421), (14.17435634, 3.89145654),\n",
       "       (14.29041481, 3.93013043), (18.05815742, 5.18602867),\n",
       "       (14.54331371, 4.01441389), (15.32427015, 4.27474677),\n",
       "       (13.61194498, 3.7039671 ), (13.6691965 , 3.72305783),\n",
       "       (15.19634908, 4.23210526), (15.68910147, 4.39638107),\n",
       "       (17.62154276, 5.04050063), (14.43748533, 3.97913711),\n",
       "       (13.53270866, 3.67756782), (13.24857231, 3.58283905),\n",
       "       (14.93189208, 4.14394723), (12.64287883, 3.38097367),\n",
       "       (15.74776403, 4.41591046), (15.78984844, 4.4299247 ),\n",
       "       (14.59617498, 4.03203678), (13.51058136, 3.67019031),\n",
       "       (13.67894769, 3.72632073), (12.97314399, 3.49106446),\n",
       "       (13.73868616, 3.74624706), (15.98601122, 4.4953347 ),\n",
       "       (16.34782563, 4.61594897), (17.718302  , 5.07273477),\n",
       "       (13.14018117, 3.54672208), (13.97258674, 3.82418809),\n",
       "       (16.33484528, 4.61159514), (13.41794742, 3.63931989),\n",
       "       (13.73647166, 3.74546884), (18.99775631, 5.49918209),\n",
       "       (14.84008411, 4.11335959), (17.14616693, 4.88205631),\n",
       "       (13.44894623, 3.64965386), (13.96155707, 3.82052097),\n",
       "       (15.22948125, 4.24315877), (13.63412277, 3.7113731 ),\n",
       "       (15.34946003, 4.28315474), (14.39992938, 3.96664768),\n",
       "       (14.24756229, 3.91586131), (14.16195564, 3.88731722),\n",
       "       (13.74809344, 3.74936846), (14.18950362, 3.89649051),\n",
       "       (13.42484727, 3.6416055 ), (13.9555164 , 3.8185151 ),\n",
       "       (14.51752225, 4.00581212), (15.32635734, 4.2754533 ),\n",
       "       (13.78423905, 3.76140703), (13.31995353, 3.60666058),\n",
       "       (14.96494478, 4.15498114), (14.4702333 , 3.99007875),\n",
       "       (13.24637552, 3.58211658), (15.67138555, 4.39047506),\n",
       "       (14.36590498, 3.95527432), (16.73124197, 4.74373868),\n",
       "       (14.54883776, 4.0162607 ), (13.12054214, 3.54019157),\n",
       "       (13.73715026, 3.74572786), (13.05027302, 3.51677101),\n",
       "       (12.99447679, 3.49818163), (14.01700484, 3.83899063),\n",
       "       (12.92698093, 3.47566797), (13.45439595, 3.65145056),\n",
       "       (14.77088785, 4.09029584), (14.58735141, 4.02907549),\n",
       "       (16.96721996, 4.82242465), (13.37874242, 3.62625212),\n",
       "       (13.58151583, 3.69384969), (14.69233412, 4.06409589),\n",
       "       (13.97955417, 3.82651538), (13.65963259, 3.71986408),\n",
       "       (14.62900208, 4.04301712), (13.99113085, 3.83036936),\n",
       "       (16.3944259 , 4.63146045), (14.32063139, 3.94019706),\n",
       "       (13.89589967, 3.79866532), (14.90791571, 4.13599513),\n",
       "       (15.12836147, 4.20943085), (14.97138191, 4.15711663),\n",
       "       (13.320637  , 3.60690399), (13.71202702, 3.737327  ),\n",
       "       (14.24502444, 3.91500041), (15.85971084, 4.45323407),\n",
       "       (12.61349306, 3.37114591), (13.71139031, 3.73714784),\n",
       "       (12.84658675, 3.44884334), (14.22491808, 3.90832131),\n",
       "       (12.5626648 , 3.35424069), (14.09213699, 3.86402977),\n",
       "       (13.21546876, 3.57182547), (13.60233492, 3.70079364),\n",
       "       (17.99727252, 5.16573222), (12.68922362, 3.39642595),\n",
       "       (14.12407196, 3.87470379), (13.63104523, 3.71034095),\n",
       "       (12.88261604, 3.4608522 ), (14.49334025, 3.99779818),\n",
       "       (13.82699032, 3.77566969), (14.32786317, 3.94262732)],\n",
       "      dtype=[('mass_1', '<f8'), ('mass_2', '<f8')])"
      ]
     },
     "execution_count": 65,
     "metadata": {},
     "output_type": "execute_result"
    }
   ],
   "source": [
    "distribution.rvs(100)"
   ]
  },
  {
   "cell_type": "code",
   "execution_count": 70,
   "metadata": {},
   "outputs": [
    {
     "ename": "AttributeError",
     "evalue": "'Dataset' object has no attribute 'keys'",
     "output_type": "error",
     "traceback": [
      "\u001b[0;31m---------------------------------------------------------------------------\u001b[0m",
      "\u001b[0;31mAttributeError\u001b[0m                            Traceback (most recent call last)",
      "\u001b[1;32m/fred/oz016/dtang/packages/spiir/share/notebooks/kde_from_file.ipynb Cell 9\u001b[0m in \u001b[0;36m<cell line: 1>\u001b[0;34m()\u001b[0m\n\u001b[0;32m----> <a href='vscode-notebook-cell://ssh-remote%2B7b22686f73744e616d65223a224f7a53746172227d/fred/oz016/dtang/packages/spiir/share/notebooks/kde_from_file.ipynb#X40sdnNjb2RlLXJlbW90ZQ%3D%3D?line=0'>1</a>\u001b[0m dist \u001b[39m=\u001b[39m JointDistribution\u001b[39m.\u001b[39;49mfrom_yaml(\u001b[39m\"\u001b[39;49m\u001b[39m../config/kde_from_file.yaml\u001b[39;49m\u001b[39m\"\u001b[39;49m)\n",
      "File \u001b[0;32m/fred/oz016/dtang/packages/spiir/src/spiir/distribution/distribution.py:381\u001b[0m, in \u001b[0;36mJointDistribution.from_yaml\u001b[0;34m(cls, path, distributions, transforms, constraints)\u001b[0m\n\u001b[1;32m    378\u001b[0m \u001b[39mwith\u001b[39;00m \u001b[39mopen\u001b[39m(path) \u001b[39mas\u001b[39;00m file:\n\u001b[1;32m    379\u001b[0m     config \u001b[39m=\u001b[39m yaml\u001b[39m.\u001b[39msafe_load(file)\n\u001b[0;32m--> 381\u001b[0m _distributions \u001b[39m=\u001b[39m load_distributions_from_config(config, key\u001b[39m=\u001b[39;49mdistributions)\n\u001b[1;32m    382\u001b[0m \u001b[39mif\u001b[39;00m _distributions \u001b[39mis\u001b[39;00m \u001b[39mNone\u001b[39;00m:\n\u001b[1;32m    383\u001b[0m     \u001b[39mraise\u001b[39;00m \u001b[39mKeyError\u001b[39;00m(\u001b[39mf\u001b[39m\u001b[39m\"\u001b[39m\u001b[39mNo distributions found in config[\u001b[39m\u001b[39m{\u001b[39;00mdistributions\u001b[39m}\u001b[39;00m\u001b[39m]\u001b[39m\u001b[39m\"\u001b[39m)\n",
      "File \u001b[0;32m/fred/oz016/dtang/packages/spiir/src/spiir/distribution/distribution.py:404\u001b[0m, in \u001b[0;36mload_distributions_from_config\u001b[0;34m(config, key)\u001b[0m\n\u001b[1;32m    401\u001b[0m         \u001b[39mif\u001b[39;00m \u001b[39m\"\u001b[39m\u001b[39mseed\u001b[39m\u001b[39m\"\u001b[39m \u001b[39mnot\u001b[39;00m \u001b[39min\u001b[39;00m kwargs:\n\u001b[1;32m    402\u001b[0m             kwargs[\u001b[39m\"\u001b[39m\u001b[39mseed\u001b[39m\u001b[39m\"\u001b[39m] \u001b[39m=\u001b[39m \u001b[39mint\u001b[39m(config[\u001b[39m\"\u001b[39m\u001b[39mseed\u001b[39m\u001b[39m\"\u001b[39m]) \u001b[39mif\u001b[39;00m \u001b[39m\"\u001b[39m\u001b[39mseed\u001b[39m\u001b[39m\"\u001b[39m \u001b[39min\u001b[39;00m config \u001b[39melse\u001b[39;00m \u001b[39mNone\u001b[39;00m\n\u001b[0;32m--> 404\u001b[0m     \u001b[39mreturn\u001b[39;00m [Distribution(\u001b[39m*\u001b[39m\u001b[39m*\u001b[39mparse_config(kwargs)) \u001b[39mfor\u001b[39;00m kwargs \u001b[39min\u001b[39;00m distribution_config]\n\u001b[1;32m    405\u001b[0m \u001b[39melse\u001b[39;00m:\n\u001b[1;32m    406\u001b[0m     logger\u001b[39m.\u001b[39minfo(\u001b[39mf\u001b[39m\u001b[39m\"\u001b[39m\u001b[39mNo distributions found in config[\u001b[39m\u001b[39m{\u001b[39;00mkey\u001b[39m}\u001b[39;00m\u001b[39m].\u001b[39m\u001b[39m\"\u001b[39m)\n",
      "File \u001b[0;32m/fred/oz016/dtang/packages/spiir/src/spiir/distribution/distribution.py:404\u001b[0m, in \u001b[0;36m<listcomp>\u001b[0;34m(.0)\u001b[0m\n\u001b[1;32m    401\u001b[0m         \u001b[39mif\u001b[39;00m \u001b[39m\"\u001b[39m\u001b[39mseed\u001b[39m\u001b[39m\"\u001b[39m \u001b[39mnot\u001b[39;00m \u001b[39min\u001b[39;00m kwargs:\n\u001b[1;32m    402\u001b[0m             kwargs[\u001b[39m\"\u001b[39m\u001b[39mseed\u001b[39m\u001b[39m\"\u001b[39m] \u001b[39m=\u001b[39m \u001b[39mint\u001b[39m(config[\u001b[39m\"\u001b[39m\u001b[39mseed\u001b[39m\u001b[39m\"\u001b[39m]) \u001b[39mif\u001b[39;00m \u001b[39m\"\u001b[39m\u001b[39mseed\u001b[39m\u001b[39m\"\u001b[39m \u001b[39min\u001b[39;00m config \u001b[39melse\u001b[39;00m \u001b[39mNone\u001b[39;00m\n\u001b[0;32m--> 404\u001b[0m     \u001b[39mreturn\u001b[39;00m [Distribution(\u001b[39m*\u001b[39;49m\u001b[39m*\u001b[39;49mparse_config(kwargs)) \u001b[39mfor\u001b[39;00m kwargs \u001b[39min\u001b[39;00m distribution_config]\n\u001b[1;32m    405\u001b[0m \u001b[39melse\u001b[39;00m:\n\u001b[1;32m    406\u001b[0m     logger\u001b[39m.\u001b[39minfo(\u001b[39mf\u001b[39m\u001b[39m\"\u001b[39m\u001b[39mNo distributions found in config[\u001b[39m\u001b[39m{\u001b[39;00mkey\u001b[39m}\u001b[39;00m\u001b[39m].\u001b[39m\u001b[39m\"\u001b[39m)\n",
      "File \u001b[0;32m/fred/oz016/dtang/packages/spiir/src/spiir/distribution/distribution.py:193\u001b[0m, in \u001b[0;36mPyCBCDistribution.__init__\u001b[0;34m(self, distribution, variable, name, seed, package, **kwargs)\u001b[0m\n\u001b[1;32m    191\u001b[0m \u001b[39msuper\u001b[39m()\u001b[39m.\u001b[39m\u001b[39m__init__\u001b[39m(distribution, variable, name, seed, package, \u001b[39m*\u001b[39m\u001b[39m*\u001b[39mkwargs)\n\u001b[1;32m    192\u001b[0m \u001b[39mself\u001b[39m\u001b[39m.\u001b[39m_rng \u001b[39m=\u001b[39m seed  \u001b[39m# unused\u001b[39;00m\n\u001b[0;32m--> 193\u001b[0m \u001b[39mself\u001b[39m\u001b[39m.\u001b[39m_distribution \u001b[39m=\u001b[39m \u001b[39mself\u001b[39;49m\u001b[39m.\u001b[39;49m_load_distribution()\n",
      "File \u001b[0;32m/fred/oz016/dtang/packages/spiir/src/spiir/distribution/distribution.py:208\u001b[0m, in \u001b[0;36mPyCBCDistribution._load_distribution\u001b[0;34m(self)\u001b[0m\n\u001b[1;32m    205\u001b[0m     \u001b[39mif\u001b[39;00m \u001b[39mself\u001b[39m\u001b[39m.\u001b[39mvariable \u001b[39mnot\u001b[39;00m \u001b[39min\u001b[39;00m \u001b[39mself\u001b[39m\u001b[39m.\u001b[39mkwargs:\n\u001b[1;32m    206\u001b[0m         kwargs[\u001b[39mself\u001b[39m\u001b[39m.\u001b[39mvariable] \u001b[39m=\u001b[39m \u001b[39mNone\u001b[39;00m\n\u001b[0;32m--> 208\u001b[0m \u001b[39mreturn\u001b[39;00m distribs[\u001b[39mself\u001b[39;49m\u001b[39m.\u001b[39;49mdistribution](\u001b[39m*\u001b[39;49m\u001b[39m*\u001b[39;49mkwargs)\n",
      "File \u001b[0;32m/fred/oz016/dtang/envs/spiir-data-py310/venv/lib/python3.10/site-packages/pycbc/distributions/arbitrary.py:244\u001b[0m, in \u001b[0;36mFromFile.__init__\u001b[0;34m(self, filename, datagroup, **params)\u001b[0m\n\u001b[1;32m    242\u001b[0m \u001b[39melse\u001b[39;00m:\n\u001b[1;32m    243\u001b[0m     ps \u001b[39m=\u001b[39m \u001b[39mlist\u001b[39m(params\u001b[39m.\u001b[39mkeys())\n\u001b[0;32m--> 244\u001b[0m param_vals, bw \u001b[39m=\u001b[39m \u001b[39mself\u001b[39;49m\u001b[39m.\u001b[39;49mget_arrays_from_file(filename, params\u001b[39m=\u001b[39;49mps)\n\u001b[1;32m    245\u001b[0m \u001b[39msuper\u001b[39m(FromFile, \u001b[39mself\u001b[39m)\u001b[39m.\u001b[39m\u001b[39m__init__\u001b[39m(bounds\u001b[39m=\u001b[39mparams, bandwidth\u001b[39m=\u001b[39mbw,\n\u001b[1;32m    246\u001b[0m                                \u001b[39m*\u001b[39m\u001b[39m*\u001b[39mparam_vals)\n",
      "File \u001b[0;32m/fred/oz016/dtang/envs/spiir-data-py310/venv/lib/python3.10/site-packages/pycbc/distributions/arbitrary.py:282\u001b[0m, in \u001b[0;36mFromFile.get_arrays_from_file\u001b[0;34m(self, params_file, params)\u001b[0m\n\u001b[1;32m    280\u001b[0m         params \u001b[39m=\u001b[39m [params]\n\u001b[1;32m    281\u001b[0m     \u001b[39mfor\u001b[39;00m p \u001b[39min\u001b[39;00m params:\n\u001b[0;32m--> 282\u001b[0m         \u001b[39mif\u001b[39;00m p \u001b[39mnot\u001b[39;00m \u001b[39min\u001b[39;00m get\u001b[39m.\u001b[39;49mkeys():\n\u001b[1;32m    283\u001b[0m             \u001b[39mraise\u001b[39;00m \u001b[39mValueError\u001b[39;00m(\u001b[39m'\u001b[39m\u001b[39mParameter \u001b[39m\u001b[39m{}\u001b[39;00m\u001b[39m is not in \u001b[39m\u001b[39m{}\u001b[39;00m\u001b[39m'\u001b[39m\n\u001b[1;32m    284\u001b[0m                              \u001b[39m.\u001b[39mformat(p, params_file))\n\u001b[1;32m    285\u001b[0m \u001b[39melse\u001b[39;00m:\n",
      "\u001b[0;31mAttributeError\u001b[0m: 'Dataset' object has no attribute 'keys'"
     ]
    }
   ],
   "source": [
    "dist = JointDistribution.from_yaml(\"../config/kde_from_file.yaml\")"
   ]
  },
  {
   "cell_type": "code",
   "execution_count": null,
   "metadata": {},
   "outputs": [
    {
     "data": {
      "text/html": [
       "<div>\n",
       "<style scoped>\n",
       "    .dataframe tbody tr th:only-of-type {\n",
       "        vertical-align: middle;\n",
       "    }\n",
       "\n",
       "    .dataframe tbody tr th {\n",
       "        vertical-align: top;\n",
       "    }\n",
       "\n",
       "    .dataframe thead th {\n",
       "        text-align: right;\n",
       "    }\n",
       "</style>\n",
       "<table border=\"1\" class=\"dataframe\">\n",
       "  <thead>\n",
       "    <tr style=\"text-align: right;\">\n",
       "      <th></th>\n",
       "      <th>mass_1</th>\n",
       "    </tr>\n",
       "  </thead>\n",
       "  <tbody>\n",
       "    <tr>\n",
       "      <th>0</th>\n",
       "      <td>14.617199</td>\n",
       "    </tr>\n",
       "    <tr>\n",
       "      <th>1</th>\n",
       "      <td>15.786166</td>\n",
       "    </tr>\n",
       "    <tr>\n",
       "      <th>2</th>\n",
       "      <td>16.652551</td>\n",
       "    </tr>\n",
       "    <tr>\n",
       "      <th>3</th>\n",
       "      <td>13.555634</td>\n",
       "    </tr>\n",
       "    <tr>\n",
       "      <th>4</th>\n",
       "      <td>16.399558</td>\n",
       "    </tr>\n",
       "    <tr>\n",
       "      <th>5</th>\n",
       "      <td>13.469283</td>\n",
       "    </tr>\n",
       "    <tr>\n",
       "      <th>6</th>\n",
       "      <td>14.392259</td>\n",
       "    </tr>\n",
       "    <tr>\n",
       "      <th>7</th>\n",
       "      <td>12.699109</td>\n",
       "    </tr>\n",
       "    <tr>\n",
       "      <th>8</th>\n",
       "      <td>13.837379</td>\n",
       "    </tr>\n",
       "    <tr>\n",
       "      <th>9</th>\n",
       "      <td>14.730163</td>\n",
       "    </tr>\n",
       "  </tbody>\n",
       "</table>\n",
       "</div>"
      ],
      "text/plain": [
       "      mass_1\n",
       "0  14.617199\n",
       "1  15.786166\n",
       "2  16.652551\n",
       "3  13.555634\n",
       "4  16.399558\n",
       "5  13.469283\n",
       "6  14.392259\n",
       "7  12.699109\n",
       "8  13.837379\n",
       "9  14.730163"
      ]
     },
     "execution_count": 68,
     "metadata": {},
     "output_type": "execute_result"
    }
   ],
   "source": [
    "dist.draw(10)"
   ]
  },
  {
   "cell_type": "code",
   "execution_count": 19,
   "metadata": {},
   "outputs": [
    {
     "name": "stderr",
     "output_type": "stream",
     "text": [
      "/tmp/ipykernel_5134/260242868.py:2: UserWarning: To output multiple subplots, the figure containing the passed axes is being cleared.\n",
      "  samples.hist(bins=50, ax=ax)\n"
     ]
    },
    {
     "data": {
      "image/png": "[encoded data removed]",
      "text/plain": [
       "<Figure size 864x648 with 12 Axes>"
      ]
     },
     "metadata": {
      "needs_background": "light"
     },
     "output_type": "display_data"
    }
   ],
   "source": [
    "# fig, ax = plt.subplots(figsize=(12,9))\n",
    "# samples.hist(bins=50, ax=ax)\n",
    "# fig.suptitle(\"Sampled Parameter Distributions\", fontsize=14)\n",
    "# fig.tight_layout()\n",
    "# fig.savefig(\"../figures/sample_distributions.png\", bbox_inches=\"tight\", facecolor=\"white\")\n",
    "# fig.show()"
   ]
  },
  {
   "cell_type": "code",
   "execution_count": null,
   "metadata": {},
   "outputs": [],
   "source": []
  }
 ],
 "metadata": {
  "kernelspec": {
   "display_name": "spiir-data-py310",
   "language": "python",
   "name": "spiir-data-py310"
  },
  "language_info": {
   "codemirror_mode": {
    "name": "ipython",
    "version": 3
   },
   "file_extension": ".py",
   "mimetype": "text/x-python",
   "name": "python",
   "nbconvert_exporter": "python",
   "pygments_lexer": "ipython3",
   "version": "3.10.4"
  },
  "orig_nbformat": 4,
  "vscode": {
   "interpreter": {
    "hash": "ff6f8ea5e96bd542a28de66742b0c640b42b98c4452808ad5aceb946193d3f7f"
   }
  }
 },
 "nbformat": 4,
 "nbformat_minor": 2
}
